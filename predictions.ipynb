{
 "cells": [
  {
   "cell_type": "markdown",
   "metadata": {},
   "source": [
    "# Problem Statement\n",
    "\n",
    "Indian Movie Face database (IMFDB) is a large unconstrained face database consisting of 34512 images of 100 Indian actors collected from more than 100 videos. All the images are manually selected and cropped from the video frames resulting in a high degree of variability interms of scale, pose, expression, illumination, age, resolution, occlusion, and makeup. IMFDB is the first face database that provides a detailed annotation of every image in terms of age, pose, gender, expression and type of occlusion that may help other face related applications. \n",
    "\n",
    "## Data\n",
    "The dataset is cleaned and formatted to give you a total of 26742 images with 19906 images in train and 6636 images in test.\n",
    "\n",
    "\n",
    "## AIM\n",
    "The task is to predict the age of a person from his or her facial attributes. For simplicity, the problem has been converted to a multiclass problem with classes as Young, Middle and Old."
   ]
  },
  {
   "cell_type": "markdown",
   "metadata": {},
   "source": [
    "## Loding Images"
   ]
  },
  {
   "cell_type": "code",
   "execution_count": 93,
   "metadata": {},
   "outputs": [],
   "source": [
    "#% pylab inline\n",
    "import os\n",
    "import random\n",
    "import cv2\n",
    "\n",
    "import pandas as pd"
   ]
  },
  {
   "cell_type": "code",
   "execution_count": 2,
   "metadata": {},
   "outputs": [],
   "source": [
    "train_path = '/home/bharath/Desktop/hackathon/train/'\n",
    "test_path = '/home/bharath/Desktop/hackathon/test/'\n",
    "\n",
    "train = pd.read_csv(train_path + 'train.csv',delimiter=\",\", index_col=None)\n",
    "test = pd.read_csv(test_path + 'test.csv',delimiter=\",\", index_col=None)"
   ]
  },
  {
   "cell_type": "markdown",
   "metadata": {},
   "source": [
    "Random image and it's label from train data set"
   ]
  },
  {
   "cell_type": "code",
   "execution_count": 3,
   "metadata": {},
   "outputs": [
    {
     "name": "stdout",
     "output_type": "stream",
     "text": [
      "Age:  MIDDLE\n"
     ]
    },
    {
     "data": {
      "text/plain": [
       "<matplotlib.image.AxesImage at 0x7fdc84215f10>"
      ]
     },
     "execution_count": 3,
     "metadata": {},
     "output_type": "execute_result"
    },
    {
     "data": {
      "image/png": "[encoded data removed]",
      "text/plain": [
       "<matplotlib.figure.Figure at 0x7fdc8429dad0>"
      ]
     },
     "metadata": {},
     "output_type": "display_data"
    }
   ],
   "source": [
    "i = random.choice(train.index)\n",
    "\n",
    "img_name = train.ID[i]\n",
    "img = cv2.imread(os.path.join(train_path, 'Train', img_name))\n",
    "\n",
    "print \"Age: \", train.Class[i]\n",
    "imshow(img)"
   ]
  },
  {
   "cell_type": "markdown",
   "metadata": {},
   "source": [
    "## Read Train and Test images\n",
    "Preprocessing the images read,\n",
    "\n",
    "1. Read image using cv2\n",
    "2. Adding Gaussian Blur/Gaussian Noice (Gaussian Noise kernel)\n",
    "3. Resize image to 32x32\n",
    "4. convert images to numpy arrays\n",
    "5. standardize"
   ]
  },
  {
   "cell_type": "code",
   "execution_count": 4,
   "metadata": {},
   "outputs": [],
   "source": [
    "## Train set\n",
    "temp = []\n",
    "for img_name in train.ID:\n",
    "    img_path = os.path.join(train_path, 'Train', img_name)\n",
    "    img = cv2.imread(img_path)\n",
    "    \n",
    "    #Gausian blur - Applies a Gaussian Noise kernel\n",
    "    kernel_size = 7\n",
    "    img = cv2.GaussianBlur(img, (kernel_size, kernel_size), 0)\n",
    "    img = cv2.resize(img, (32, 32), cv2.INTER_LINEAR)\n",
    "    img = img.astype('float32') \n",
    "    temp.append(img)\n",
    "\n",
    "train_x = np.stack(temp)"
   ]
  },
  {
   "cell_type": "code",
   "execution_count": 5,
   "metadata": {},
   "outputs": [],
   "source": [
    "## Test Set\n",
    "temp = []\n",
    "for img_name in test.ID:\n",
    "    img_path = os.path.join(test_path, 'Test', img_name)\n",
    "    img = cv2.imread(img_path)\n",
    "    #Gausian blur - Applies a Gaussian Noise kernel\n",
    "    kernel_size = 7\n",
    "    img = cv2.GaussianBlur(img, (kernel_size, kernel_size), 0)\n",
    "    img = cv2.resize(img, (32, 32), cv2.INTER_LINEAR)\n",
    "    temp.append(img.astype('float32'))\n",
    "\n",
    "test_x = np.stack(temp)"
   ]
  },
  {
   "cell_type": "code",
   "execution_count": 6,
   "metadata": {},
   "outputs": [],
   "source": [
    "train_x = train_x / 255.\n",
    "test_x = test_x / 255."
   ]
  },
  {
   "cell_type": "code",
   "execution_count": 7,
   "metadata": {},
   "outputs": [
    {
     "name": "stderr",
     "output_type": "stream",
     "text": [
      "Using TensorFlow backend.\n"
     ]
    }
   ],
   "source": [
    "import keras\n",
    "from sklearn.preprocessing import LabelEncoder\n",
    "## Convert target variable to categorical variable\n",
    "lb = LabelEncoder()\n",
    "train_y = lb.fit_transform(train.Class)\n",
    "train_y = keras.utils.np_utils.to_categorical(train_y)"
   ]
  },
  {
   "cell_type": "code",
   "execution_count": 88,
   "metadata": {},
   "outputs": [],
   "source": [
    "epochs = 40\n",
    "batch_size = 64"
   ]
  },
  {
   "cell_type": "code",
   "execution_count": 9,
   "metadata": {},
   "outputs": [],
   "source": [
    "import numpy\n",
    "from keras.models import Sequential\n",
    "from keras.layers import Conv2D, MaxPooling2D\n",
    "from keras.layers import Activation, Dropout, Flatten, Dense\n",
    "from keras.utils.np_utils import to_categorical"
   ]
  },
  {
   "cell_type": "markdown",
   "metadata": {},
   "source": [
    "# Model Building"
   ]
  },
  {
   "cell_type": "markdown",
   "metadata": {},
   "source": [
    "Building a Convolutional Neural Network model coupled with a fully connected feed forward network!\n",
    "\n",
    "<img src=\"cnn01.png\">"
   ]
  },
  {
   "cell_type": "code",
   "execution_count": 86,
   "metadata": {},
   "outputs": [
    {
     "name": "stdout",
     "output_type": "stream",
     "text": [
      "_________________________________________________________________\n",
      "Layer (type)                 Output Shape              Param #   \n",
      "=================================================================\n",
      "conv2d_61 (Conv2D)           (None, 28, 28, 32)        2432      \n",
      "_________________________________________________________________\n",
      "max_pooling2d_60 (MaxPooling (None, 14, 14, 32)        0         \n",
      "_________________________________________________________________\n",
      "conv2d_62 (Conv2D)           (None, 12, 12, 32)        9248      \n",
      "_________________________________________________________________\n",
      "max_pooling2d_61 (MaxPooling (None, 6, 6, 32)          0         \n",
      "_________________________________________________________________\n",
      "flatten_26 (Flatten)         (None, 1152)              0         \n",
      "_________________________________________________________________\n",
      "dense_80 (Dense)             (None, 500)               576500    \n",
      "_________________________________________________________________\n",
      "dropout_55 (Dropout)         (None, 500)               0         \n",
      "_________________________________________________________________\n",
      "dense_81 (Dense)             (None, 100)               50100     \n",
      "_________________________________________________________________\n",
      "dropout_56 (Dropout)         (None, 100)               0         \n",
      "_________________________________________________________________\n",
      "dense_82 (Dense)             (None, 20)                2020      \n",
      "_________________________________________________________________\n",
      "dropout_57 (Dropout)         (None, 20)                0         \n",
      "_________________________________________________________________\n",
      "dense_83 (Dense)             (None, 3)                 63        \n",
      "=================================================================\n",
      "Total params: 640,363\n",
      "Trainable params: 640,363\n",
      "Non-trainable params: 0\n",
      "_________________________________________________________________\n"
     ]
    },
    {
     "name": "stderr",
     "output_type": "stream",
     "text": [
      "/usr/local/lib/python2.7/dist-packages/ipykernel_launcher.py:3: UserWarning: Update your `Conv2D` call to the Keras 2 API: `Conv2D(32, (5, 5), activation=\"relu\", input_shape=(32, 32, 3...)`\n",
      "  This is separate from the ipykernel package so we can avoid doing imports until\n",
      "/usr/local/lib/python2.7/dist-packages/ipykernel_launcher.py:6: UserWarning: Update your `Conv2D` call to the Keras 2 API: `Conv2D(32, (3, 3), activation=\"relu\")`\n",
      "  \n",
      "/usr/local/lib/python2.7/dist-packages/ipykernel_launcher.py:10: UserWarning: Update your `Dense` call to the Keras 2 API: `Dense(500, activation=\"relu\", kernel_initializer=\"uniform\")`\n",
      "  # Remove the CWD from sys.path while we load stuff.\n",
      "/usr/local/lib/python2.7/dist-packages/ipykernel_launcher.py:13: UserWarning: Update your `Dense` call to the Keras 2 API: `Dense(100, activation=\"relu\", kernel_initializer=\"uniform\")`\n",
      "  del sys.path[0]\n",
      "/usr/local/lib/python2.7/dist-packages/ipykernel_launcher.py:16: UserWarning: Update your `Dense` call to the Keras 2 API: `Dense(20, activation=\"relu\", kernel_initializer=\"uniform\")`\n",
      "  app.launch_new_instance()\n"
     ]
    }
   ],
   "source": [
    "# Building the model\n",
    "cnn_model5 = Sequential()\n",
    "\n",
    "cnn_model5.add(Conv2D(32, 5, 5, activation='relu', input_shape=(32, 32, 3)))\n",
    "cnn_model5.add(MaxPooling2D(pool_size=(2,2)))\n",
    "\n",
    "cnn_model5.add(Conv2D(32, 3, 3, activation='relu'))\n",
    "cnn_model5.add(MaxPooling2D(pool_size=(2,2)))\n",
    "cnn_model5.add(Flatten())\n",
    "\n",
    "cnn_model5.add(Dense(500, init='uniform', activation='relu'))\n",
    "cnn_model5.add(Dropout(0.4))\n",
    "\n",
    "cnn_model5.add(Dense(100, init='uniform', activation='relu'))\n",
    "cnn_model5.add(Dropout(0.4))\n",
    "\n",
    "cnn_model5.add(Dense(20, init='uniform', activation='relu'))\n",
    "cnn_model5.add(Dropout(0.4))\n",
    "\n",
    "cnn_model5.add(Dense(3, activation='softmax'))\n",
    "\n",
    "# Summary\n",
    "cnn_model5.summary()"
   ]
  },
  {
   "cell_type": "code",
   "execution_count": 91,
   "metadata": {},
   "outputs": [
    {
     "name": "stdout",
     "output_type": "stream",
     "text": [
      "Train on 15924 samples, validate on 3982 samples\n",
      "Epoch 1/48\n",
      "15924/15924 [==============================] - 25s 2ms/step - loss: 0.0996 - acc: 0.9682 - val_loss: 1.1866 - val_acc: 0.7853\n",
      "Epoch 2/48\n",
      "15924/15924 [==============================] - 28s 2ms/step - loss: 0.0786 - acc: 0.9765 - val_loss: 1.2748 - val_acc: 0.7798\n",
      "Epoch 3/48\n",
      "15924/15924 [==============================] - 29s 2ms/step - loss: 0.0894 - acc: 0.9719 - val_loss: 1.2148 - val_acc: 0.7785\n",
      "Epoch 4/48\n",
      "15924/15924 [==============================] - 29s 2ms/step - loss: 0.0908 - acc: 0.9721 - val_loss: 1.2693 - val_acc: 0.7790\n",
      "Epoch 5/48\n",
      "15924/15924 [==============================] - 29s 2ms/step - loss: 0.0710 - acc: 0.9783 - val_loss: 1.2920 - val_acc: 0.7780\n",
      "Epoch 6/48\n",
      "15924/15924 [==============================] - 29s 2ms/step - loss: 0.0784 - acc: 0.9756 - val_loss: 1.3705 - val_acc: 0.7833\n",
      "Epoch 7/48\n",
      "15924/15924 [==============================] - 30s 2ms/step - loss: 0.0827 - acc: 0.9741 - val_loss: 1.2430 - val_acc: 0.7808\n",
      "Epoch 8/48\n",
      "15924/15924 [==============================] - 30s 2ms/step - loss: 0.0775 - acc: 0.9740 - val_loss: 1.4155 - val_acc: 0.7740\n",
      "Epoch 9/48\n",
      "15924/15924 [==============================] - 29s 2ms/step - loss: 0.0859 - acc: 0.9726 - val_loss: 1.2980 - val_acc: 0.7810\n",
      "Epoch 10/48\n",
      "15924/15924 [==============================] - 29s 2ms/step - loss: 0.0801 - acc: 0.9766 - val_loss: 1.3008 - val_acc: 0.7740\n",
      "Epoch 11/48\n",
      "15924/15924 [==============================] - 32s 2ms/step - loss: 0.0743 - acc: 0.9759 - val_loss: 1.2790 - val_acc: 0.7742\n",
      "Epoch 12/48\n",
      "15924/15924 [==============================] - 29s 2ms/step - loss: 0.0750 - acc: 0.9766 - val_loss: 1.3109 - val_acc: 0.7770\n",
      "Epoch 13/48\n",
      "15924/15924 [==============================] - 29s 2ms/step - loss: 0.0727 - acc: 0.9768 - val_loss: 1.2830 - val_acc: 0.7790\n",
      "Epoch 14/48\n",
      "15924/15924 [==============================] - 29s 2ms/step - loss: 0.0780 - acc: 0.9766 - val_loss: 1.2986 - val_acc: 0.7835\n",
      "Epoch 15/48\n",
      "15924/15924 [==============================] - 29s 2ms/step - loss: 0.0643 - acc: 0.9785 - val_loss: 1.2569 - val_acc: 0.7820\n",
      "Epoch 16/48\n",
      "15924/15924 [==============================] - 29s 2ms/step - loss: 0.0634 - acc: 0.9803 - val_loss: 1.4029 - val_acc: 0.7805\n",
      "Epoch 17/48\n",
      "15924/15924 [==============================] - 29s 2ms/step - loss: 0.0628 - acc: 0.9808 - val_loss: 1.3350 - val_acc: 0.7818\n",
      "Epoch 18/48\n",
      "15924/15924 [==============================] - 29s 2ms/step - loss: 0.0630 - acc: 0.9807 - val_loss: 1.3667 - val_acc: 0.7762\n",
      "Epoch 19/48\n",
      "15924/15924 [==============================] - 29s 2ms/step - loss: 0.0728 - acc: 0.9773 - val_loss: 1.2812 - val_acc: 0.7788\n",
      "Epoch 20/48\n",
      "15924/15924 [==============================] - 29s 2ms/step - loss: 0.0757 - acc: 0.9761 - val_loss: 1.2602 - val_acc: 0.7793\n",
      "Epoch 21/48\n",
      "15924/15924 [==============================] - 29s 2ms/step - loss: 0.0628 - acc: 0.9810 - val_loss: 1.2537 - val_acc: 0.7820\n",
      "Epoch 22/48\n",
      "15924/15924 [==============================] - 29s 2ms/step - loss: 0.0568 - acc: 0.9819 - val_loss: 1.2603 - val_acc: 0.7833\n",
      "Epoch 23/48\n",
      "15924/15924 [==============================] - 29s 2ms/step - loss: 0.0568 - acc: 0.9825 - val_loss: 1.2844 - val_acc: 0.7755\n",
      "Epoch 24/48\n",
      "15924/15924 [==============================] - 29s 2ms/step - loss: 0.0669 - acc: 0.9800 - val_loss: 1.2964 - val_acc: 0.7800\n",
      "Epoch 25/48\n",
      "15924/15924 [==============================] - 29s 2ms/step - loss: 0.0766 - acc: 0.9761 - val_loss: 1.2951 - val_acc: 0.7835\n",
      "Epoch 26/48\n",
      "15924/15924 [==============================] - 29s 2ms/step - loss: 0.0516 - acc: 0.9844 - val_loss: 1.3565 - val_acc: 0.7798\n",
      "Epoch 27/48\n",
      "15924/15924 [==============================] - 29s 2ms/step - loss: 0.0655 - acc: 0.9789 - val_loss: 1.3091 - val_acc: 0.7858\n",
      "Epoch 28/48\n",
      "15924/15924 [==============================] - 29s 2ms/step - loss: 0.0544 - acc: 0.9821 - val_loss: 1.3860 - val_acc: 0.7780\n",
      "Epoch 29/48\n",
      "15924/15924 [==============================] - 30s 2ms/step - loss: 0.0691 - acc: 0.9790 - val_loss: 1.3192 - val_acc: 0.7710\n",
      "Epoch 30/48\n",
      "15924/15924 [==============================] - 29s 2ms/step - loss: 0.0649 - acc: 0.9789 - val_loss: 1.4199 - val_acc: 0.7767\n",
      "Epoch 31/48\n",
      "15924/15924 [==============================] - 29s 2ms/step - loss: 0.0487 - acc: 0.9836 - val_loss: 1.4468 - val_acc: 0.7798\n",
      "Epoch 32/48\n",
      "15924/15924 [==============================] - 30s 2ms/step - loss: 0.0719 - acc: 0.9786 - val_loss: 1.3148 - val_acc: 0.7777\n",
      "Epoch 33/48\n",
      "15924/15924 [==============================] - 31s 2ms/step - loss: 0.0560 - acc: 0.9817 - val_loss: 1.4190 - val_acc: 0.7830\n",
      "Epoch 34/48\n",
      "15924/15924 [==============================] - 30s 2ms/step - loss: 0.0784 - acc: 0.9758 - val_loss: 1.2516 - val_acc: 0.7790\n",
      "Epoch 35/48\n",
      "15924/15924 [==============================] - 30s 2ms/step - loss: 0.0561 - acc: 0.9828 - val_loss: 1.3101 - val_acc: 0.7803\n",
      "Epoch 36/48\n",
      "15924/15924 [==============================] - 30s 2ms/step - loss: 0.0496 - acc: 0.9837 - val_loss: 1.5482 - val_acc: 0.7780\n",
      "Epoch 37/48\n",
      "15924/15924 [==============================] - 29s 2ms/step - loss: 0.0587 - acc: 0.9826 - val_loss: 1.4105 - val_acc: 0.7845\n",
      "Epoch 38/48\n",
      "15924/15924 [==============================] - 29s 2ms/step - loss: 0.0678 - acc: 0.9787 - val_loss: 1.2460 - val_acc: 0.7765\n",
      "Epoch 39/48\n",
      "15924/15924 [==============================] - 29s 2ms/step - loss: 0.0519 - acc: 0.9851 - val_loss: 1.3354 - val_acc: 0.7823\n",
      "Epoch 40/48\n",
      "15924/15924 [==============================] - 29s 2ms/step - loss: 0.0664 - acc: 0.9803 - val_loss: 1.3072 - val_acc: 0.7760\n",
      "Epoch 41/48\n",
      "15924/15924 [==============================] - 29s 2ms/step - loss: 0.0543 - acc: 0.9850 - val_loss: 1.3977 - val_acc: 0.7858\n",
      "Epoch 42/48\n",
      "15924/15924 [==============================] - 29s 2ms/step - loss: 0.0614 - acc: 0.9822 - val_loss: 1.3315 - val_acc: 0.7833\n",
      "Epoch 43/48\n",
      "15924/15924 [==============================] - 30s 2ms/step - loss: 0.0485 - acc: 0.9830 - val_loss: 1.4096 - val_acc: 0.7860\n",
      "Epoch 44/48\n",
      "15924/15924 [==============================] - 30s 2ms/step - loss: 0.0453 - acc: 0.9869 - val_loss: 1.5049 - val_acc: 0.7888\n",
      "Epoch 45/48\n",
      "15924/15924 [==============================] - 29s 2ms/step - loss: 0.0474 - acc: 0.9854 - val_loss: 1.3938 - val_acc: 0.7838\n",
      "Epoch 46/48\n",
      "15924/15924 [==============================] - 30s 2ms/step - loss: 0.0470 - acc: 0.9843 - val_loss: 1.3645 - val_acc: 0.7853\n",
      "Epoch 47/48\n",
      "15924/15924 [==============================] - 30s 2ms/step - loss: 0.0584 - acc: 0.9822 - val_loss: 1.3816 - val_acc: 0.7810\n",
      "Epoch 48/48\n",
      "15924/15924 [==============================] - 29s 2ms/step - loss: 0.0446 - acc: 0.9863 - val_loss: 1.4749 - val_acc: 0.7770\n"
     ]
    },
    {
     "data": {
      "text/plain": [
       "<keras.callbacks.History at 0x7fdc1df9fb10>"
      ]
     },
     "execution_count": 91,
     "metadata": {},
     "output_type": "execute_result"
    }
   ],
   "source": [
    "#Setting Optimizer parameters\n",
    "keras.optimizers.Adam(lr=0.03, beta_1=0.9, beta_2=0.999, epsilon=1e-08, decay=0.0)\n",
    "#Compile model\n",
    "cnn_model5.compile(loss = \"categorical_crossentropy\",\n",
    "              #optimizer = 'adadelta',\n",
    "              #optimizer = 'sgd',\n",
    "              optimizer = 'adam',\n",
    "              metrics = ['accuracy'])\n",
    "# Training\n",
    "cnn_model5.fit(train_x, train_y, batch_size=batch_size, epochs=48,verbose=1, validation_split=0.2) #batch_size=batch_size,"
   ]
  },
  {
   "cell_type": "markdown",
   "metadata": {},
   "source": [
    "## Predicting on Test data"
   ]
  },
  {
   "cell_type": "code",
   "execution_count": 90,
   "metadata": {},
   "outputs": [],
   "source": [
    "pred = cnn_model5.predict_classes(test_x)\n",
    "pred = lb.inverse_transform(pred)\n",
    "\n",
    "test['Class'] = pred\n",
    "test.to_csv('sub16.csv', index=False)"
   ]
  },
  {
   "cell_type": "code",
   "execution_count": null,
   "metadata": {},
   "outputs": [],
   "source": [
    "## Predictions on Test accuracy - 0.781"
   ]
  },
  {
   "cell_type": "code",
   "execution_count": null,
   "metadata": {},
   "outputs": [],
   "source": []
  }
 ],
 "metadata": {
  "kernelspec": {
   "display_name": "Python 2",
   "language": "python",
   "name": "python2"
  },
  "language_info": {
   "codemirror_mode": {
    "name": "ipython",
    "version": 2
   },
   "file_extension": ".py",
   "mimetype": "text/x-python",
   "name": "python",
   "nbconvert_exporter": "python",
   "pygments_lexer": "ipython2",
   "version": "2.7.12"
  }
 },
 "nbformat": 4,
 "nbformat_minor": 2
}
